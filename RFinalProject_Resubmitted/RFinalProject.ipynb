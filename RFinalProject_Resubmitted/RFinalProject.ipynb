{
 "cells": [
  {
   "cell_type": "code",
   "execution_count": null,
   "metadata": {},
   "outputs": [],
   "source": [
    "# R Final Project\n",
    "# 16th December 2019\n",
    "\n",
    "#Objectives\n",
    "##1. To perform ANOVA to see the effect of anthocyanin in early blight disease in tomato\n",
    "##2. To construct histogram of anthocyanin conten"
   ]
  },
  {
   "cell_type": "code",
   "execution_count": 3,
   "metadata": {
    "scrolled": true
   },
   "outputs": [
    {
     "name": "stderr",
     "output_type": "stream",
     "text": [
      "Warning message in install.packages(\"readxl\"):\n",
      "“installation of package ‘readxl’ had non-zero exit status”Updating HTML index of packages in '.Library'\n",
      "Making 'packages.html' ... done\n"
     ]
    }
   ],
   "source": [
    "# Install \"readxl\" packages\n",
    "\n",
    "install.packages(\"readxl\")"
   ]
  },
  {
   "cell_type": "code",
   "execution_count": 4,
   "metadata": {},
   "outputs": [],
   "source": [
    "# Load \"readxl\" packages\n",
    "\n",
    "library(\"readxl\")"
   ]
  },
  {
   "cell_type": "code",
   "execution_count": 5,
   "metadata": {},
   "outputs": [
    {
     "data": {
      "text/html": [
       "'/Users/NavinShrestha'"
      ],
      "text/latex": [
       "'/Users/NavinShrestha'"
      ],
      "text/markdown": [
       "'/Users/NavinShrestha'"
      ],
      "text/plain": [
       "[1] \"/Users/NavinShrestha\""
      ]
     },
     "metadata": {},
     "output_type": "display_data"
    }
   ],
   "source": [
    "# Get working directory\n",
    "\n",
    "getwd()"
   ]
  },
  {
   "cell_type": "code",
   "execution_count": 6,
   "metadata": {},
   "outputs": [],
   "source": [
    "# Set working directory\n",
    "\n",
    "setwd('/Users/NavinShrestha/Desktop/RFinalProject')"
   ]
  },
  {
   "cell_type": "code",
   "execution_count": 7,
   "metadata": {},
   "outputs": [
    {
     "data": {
      "text/html": [
       "'/Users/NavinShrestha/Desktop/RFinalProject'"
      ],
      "text/latex": [
       "'/Users/NavinShrestha/Desktop/RFinalProject'"
      ],
      "text/markdown": [
       "'/Users/NavinShrestha/Desktop/RFinalProject'"
      ],
      "text/plain": [
       "[1] \"/Users/NavinShrestha/Desktop/RFinalProject\""
      ]
     },
     "metadata": {},
     "output_type": "display_data"
    }
   ],
   "source": [
    "# Confirm working directory\n",
    "\n",
    "getwd()"
   ]
  },
  {
   "cell_type": "code",
   "execution_count": 12,
   "metadata": {},
   "outputs": [],
   "source": [
    "# Import data \n",
    "\n",
    "data_lab <- read_excel('anthocyanin.xlsx',skip=1)"
   ]
  },
  {
   "cell_type": "code",
   "execution_count": 14,
   "metadata": {},
   "outputs": [
    {
     "data": {
      "text/html": [
       "<table>\n",
       "<thead><tr><th scope=col>RAND</th><th scope=col>Genotype</th><th scope=col>Anthocyanin content</th><th scope=col>Group</th><th scope=col>Rep</th><th scope=col>Ds score</th><th scope=col>Run</th></tr></thead>\n",
       "<tbody>\n",
       "\t<tr><td>18FLAV011     </td><td>Ailsa Craig   </td><td>      NA      </td><td>P1            </td><td>NA            </td><td>3             </td><td>1             </td></tr>\n",
       "\t<tr><td>18FLAV035     </td><td>NC 74CAP(2009)</td><td>      NA      </td><td>P2            </td><td>NA            </td><td>5             </td><td>1             </td></tr>\n",
       "\t<tr><td>18FLAV009     </td><td>NC11142       </td><td>      NA      </td><td>F1            </td><td>NA            </td><td>4             </td><td>1             </td></tr>\n",
       "\t<tr><td>18FLAV014     </td><td>NC16267_BC_003</td><td>15.11485      </td><td>M             </td><td> 1            </td><td>5             </td><td>1             </td></tr>\n",
       "\t<tr><td>18FLAV015     </td><td>NC16267_BC_012</td><td>15.11485      </td><td>M             </td><td> 1            </td><td>4             </td><td>1             </td></tr>\n",
       "\t<tr><td>18FLAV010     </td><td>NC16267_BC_015</td><td>15.11485      </td><td>M             </td><td> 1            </td><td>4             </td><td>1             </td></tr>\n",
       "</tbody>\n",
       "</table>\n"
      ],
      "text/latex": [
       "\\begin{tabular}{r|lllllll}\n",
       " RAND & Genotype & Anthocyanin content & Group & Rep & Ds score & Run\\\\\n",
       "\\hline\n",
       "\t 18FLAV011      & Ailsa Craig    &       NA       & P1             & NA             & 3              & 1             \\\\\n",
       "\t 18FLAV035      & NC 74CAP(2009) &       NA       & P2             & NA             & 5              & 1             \\\\\n",
       "\t 18FLAV009      & NC11142        &       NA       & F1             & NA             & 4              & 1             \\\\\n",
       "\t 18FLAV014          & NC16267\\_BC\\_003 & 15.11485           & M                  &  1                 & 5                  & 1                 \\\\\n",
       "\t 18FLAV015          & NC16267\\_BC\\_012 & 15.11485           & M                  &  1                 & 4                  & 1                 \\\\\n",
       "\t 18FLAV010          & NC16267\\_BC\\_015 & 15.11485           & M                  &  1                 & 4                  & 1                 \\\\\n",
       "\\end{tabular}\n"
      ],
      "text/markdown": [
       "\n",
       "| RAND | Genotype | Anthocyanin content | Group | Rep | Ds score | Run |\n",
       "|---|---|---|---|---|---|---|\n",
       "| 18FLAV011      | Ailsa Craig    |       NA       | P1             | NA             | 3              | 1              |\n",
       "| 18FLAV035      | NC 74CAP(2009) |       NA       | P2             | NA             | 5              | 1              |\n",
       "| 18FLAV009      | NC11142        |       NA       | F1             | NA             | 4              | 1              |\n",
       "| 18FLAV014      | NC16267_BC_003 | 15.11485       | M              |  1             | 5              | 1              |\n",
       "| 18FLAV015      | NC16267_BC_012 | 15.11485       | M              |  1             | 4              | 1              |\n",
       "| 18FLAV010      | NC16267_BC_015 | 15.11485       | M              |  1             | 4              | 1              |\n",
       "\n"
      ],
      "text/plain": [
       "  RAND      Genotype       Anthocyanin content Group Rep Ds score Run\n",
       "1 18FLAV011 Ailsa Craig          NA            P1    NA  3        1  \n",
       "2 18FLAV035 NC 74CAP(2009)       NA            P2    NA  5        1  \n",
       "3 18FLAV009 NC11142              NA            F1    NA  4        1  \n",
       "4 18FLAV014 NC16267_BC_003 15.11485            M      1  5        1  \n",
       "5 18FLAV015 NC16267_BC_012 15.11485            M      1  4        1  \n",
       "6 18FLAV010 NC16267_BC_015 15.11485            M      1  4        1  "
      ]
     },
     "metadata": {},
     "output_type": "display_data"
    }
   ],
   "source": [
    "# view head of 'anthocyanin' data\n",
    "\n",
    "head(data_lab)"
   ]
  },
  {
   "cell_type": "code",
   "execution_count": 15,
   "metadata": {},
   "outputs": [],
   "source": [
    "# Trim the data - remove the missing data\n",
    "\n",
    "lab.data.nomissing <- data_lab[!is.na(data_lab[,3]),]"
   ]
  },
  {
   "cell_type": "code",
   "execution_count": 16,
   "metadata": {},
   "outputs": [],
   "source": [
    "# Remove'no plant' diseae score (Ds score) data\n",
    "\n",
    "lab.data.nomissing <- lab.data.nomissing[lab.data.nomissing[,6] != 'no plants',]"
   ]
  },
  {
   "cell_type": "code",
   "execution_count": 17,
   "metadata": {},
   "outputs": [
    {
     "data": {
      "text/plain": [
       "     RAND             Genotype         Anthocyanin content    Group          \n",
       " Length:191         Length:191         Min.   :-4.702      Length:191        \n",
       " Class :character   Class :character   1st Qu.: 7.725      Class :character  \n",
       " Mode  :character   Mode  :character   Median :15.115      Mode  :character  \n",
       "                                       Mean   :21.794                        \n",
       "                                       3rd Qu.:21.713                        \n",
       "                                       Max.   :84.307                        \n",
       "      Rep          Ds score              Run       \n",
       " Min.   :1.000   Length:191         Min.   :1.000  \n",
       " 1st Qu.:1.000   Class :character   1st Qu.:1.000  \n",
       " Median :2.000   Mode  :character   Median :2.000  \n",
       " Mean   :2.005                      Mean   :1.503  \n",
       " 3rd Qu.:3.000                      3rd Qu.:2.000  \n",
       " Max.   :3.000                      Max.   :2.000  "
      ]
     },
     "metadata": {},
     "output_type": "display_data"
    }
   ],
   "source": [
    "# Summary of working file (lab.data.nomissing)\n",
    "\n",
    "summary(lab.data.nomissing)"
   ]
  },
  {
   "cell_type": "code",
   "execution_count": 18,
   "metadata": {},
   "outputs": [],
   "source": [
    "# Attach the working file\n",
    "\n",
    "attach(lab.data.nomissing)"
   ]
  },
  {
   "cell_type": "code",
   "execution_count": 20,
   "metadata": {},
   "outputs": [],
   "source": [
    "# Convert disease score (Ds score) into numeric value\n",
    "\n",
    "lab.data.nomissing$`Ds score` <- as.numeric(lab.data.nomissing$`Ds score`)"
   ]
  },
  {
   "cell_type": "code",
   "execution_count": 21,
   "metadata": {},
   "outputs": [],
   "source": [
    "# Convert Replication into character value\n",
    "\n",
    "lab.data.nomissing$Rep <- as.character(lab.data.nomissing$Rep)"
   ]
  },
  {
   "cell_type": "code",
   "execution_count": 22,
   "metadata": {},
   "outputs": [
    {
     "data": {
      "text/plain": [
       "     RAND             Genotype         Anthocyanin content    Group          \n",
       " Length:191         Length:191         Min.   :-4.702      Length:191        \n",
       " Class :character   Class :character   1st Qu.: 7.725      Class :character  \n",
       " Mode  :character   Mode  :character   Median :15.115      Mode  :character  \n",
       "                                       Mean   :21.794                        \n",
       "                                       3rd Qu.:21.713                        \n",
       "                                       Max.   :84.307                        \n",
       "     Rep               Ds score         Run       \n",
       " Length:191         Min.   :2.00   Min.   :1.000  \n",
       " Class :character   1st Qu.:4.00   1st Qu.:1.000  \n",
       " Mode  :character   Median :5.00   Median :2.000  \n",
       "                    Mean   :4.89   Mean   :1.503  \n",
       "                    3rd Qu.:5.00   3rd Qu.:2.000  \n",
       "                    Max.   :7.00   Max.   :2.000  "
      ]
     },
     "metadata": {},
     "output_type": "display_data"
    }
   ],
   "source": [
    "# Summary of working file\n",
    "\n",
    "summary(lab.data.nomissing)"
   ]
  },
  {
   "cell_type": "code",
   "execution_count": 24,
   "metadata": {},
   "outputs": [
    {
     "data": {
      "text/html": [
       "<table>\n",
       "<thead><tr><th scope=col>RAND</th><th scope=col>Genotype</th><th scope=col>Anthocyanin content</th><th scope=col>Group</th><th scope=col>Rep</th><th scope=col>Ds score</th><th scope=col>Run</th></tr></thead>\n",
       "<tbody>\n",
       "\t<tr><td>18FLAV014     </td><td>NC16267_BC_003</td><td>15.114854     </td><td>M             </td><td>1             </td><td>5             </td><td>1             </td></tr>\n",
       "\t<tr><td>18FLAV015     </td><td>NC16267_BC_012</td><td>15.114854     </td><td>M             </td><td>1             </td><td>4             </td><td>1             </td></tr>\n",
       "\t<tr><td>18FLAV010     </td><td>NC16267_BC_015</td><td>15.114854     </td><td>M             </td><td>1             </td><td>4             </td><td>1             </td></tr>\n",
       "\t<tr><td>18FLAV012     </td><td>NC16267_BC_032</td><td> 5.038285     </td><td>L             </td><td>1             </td><td>5             </td><td>1             </td></tr>\n",
       "\t<tr><td>18FLAV032     </td><td>NC16267_BC_035</td><td> 9.404798     </td><td>L             </td><td>1             </td><td>2             </td><td>1             </td></tr>\n",
       "\t<tr><td>18FLAV023     </td><td>NC16267_BC_041</td><td> 4.366513     </td><td>L             </td><td>1             </td><td>3             </td><td>1             </td></tr>\n",
       "</tbody>\n",
       "</table>\n"
      ],
      "text/latex": [
       "\\begin{tabular}{r|lllllll}\n",
       " RAND & Genotype & Anthocyanin content & Group & Rep & Ds score & Run\\\\\n",
       "\\hline\n",
       "\t 18FLAV014          & NC16267\\_BC\\_003 & 15.114854          & M                  & 1                  & 5                  & 1                 \\\\\n",
       "\t 18FLAV015          & NC16267\\_BC\\_012 & 15.114854          & M                  & 1                  & 4                  & 1                 \\\\\n",
       "\t 18FLAV010          & NC16267\\_BC\\_015 & 15.114854          & M                  & 1                  & 4                  & 1                 \\\\\n",
       "\t 18FLAV012          & NC16267\\_BC\\_032 &  5.038285          & L                  & 1                  & 5                  & 1                 \\\\\n",
       "\t 18FLAV032          & NC16267\\_BC\\_035 &  9.404798          & L                  & 1                  & 2                  & 1                 \\\\\n",
       "\t 18FLAV023          & NC16267\\_BC\\_041 &  4.366513          & L                  & 1                  & 3                  & 1                 \\\\\n",
       "\\end{tabular}\n"
      ],
      "text/markdown": [
       "\n",
       "| RAND | Genotype | Anthocyanin content | Group | Rep | Ds score | Run |\n",
       "|---|---|---|---|---|---|---|\n",
       "| 18FLAV014      | NC16267_BC_003 | 15.114854      | M              | 1              | 5              | 1              |\n",
       "| 18FLAV015      | NC16267_BC_012 | 15.114854      | M              | 1              | 4              | 1              |\n",
       "| 18FLAV010      | NC16267_BC_015 | 15.114854      | M              | 1              | 4              | 1              |\n",
       "| 18FLAV012      | NC16267_BC_032 |  5.038285      | L              | 1              | 5              | 1              |\n",
       "| 18FLAV032      | NC16267_BC_035 |  9.404798      | L              | 1              | 2              | 1              |\n",
       "| 18FLAV023      | NC16267_BC_041 |  4.366513      | L              | 1              | 3              | 1              |\n",
       "\n"
      ],
      "text/plain": [
       "  RAND      Genotype       Anthocyanin content Group Rep Ds score Run\n",
       "1 18FLAV014 NC16267_BC_003 15.114854           M     1   5        1  \n",
       "2 18FLAV015 NC16267_BC_012 15.114854           M     1   4        1  \n",
       "3 18FLAV010 NC16267_BC_015 15.114854           M     1   4        1  \n",
       "4 18FLAV012 NC16267_BC_032  5.038285           L     1   5        1  \n",
       "5 18FLAV032 NC16267_BC_035  9.404798           L     1   2        1  \n",
       "6 18FLAV023 NC16267_BC_041  4.366513           L     1   3        1  "
      ]
     },
     "metadata": {},
     "output_type": "display_data"
    }
   ],
   "source": [
    "# View head of working file\n",
    "\n",
    "head(lab.data.nomissing)"
   ]
  },
  {
   "cell_type": "code",
   "execution_count": 25,
   "metadata": {},
   "outputs": [],
   "source": [
    "# Fit a model with ds score as response and group and rep as predictors\n",
    "model.lab <- lm(`Ds score` ~ Group+Rep, data = lab.data.nomissing)"
   ]
  },
  {
   "cell_type": "code",
   "execution_count": 26,
   "metadata": {},
   "outputs": [
    {
     "data": {
      "text/html": [
       "<table>\n",
       "<thead><tr><th></th><th scope=col>Df</th><th scope=col>Sum Sq</th><th scope=col>Mean Sq</th><th scope=col>F value</th><th scope=col>Pr(&gt;F)</th></tr></thead>\n",
       "<tbody>\n",
       "\t<tr><th scope=row>Group</th><td>  2        </td><td>  0.3426057</td><td>0.1713029  </td><td>0.2046246  </td><td>0.81513638 </td></tr>\n",
       "\t<tr><th scope=row>Rep</th><td>  2        </td><td>  4.6373585</td><td>2.3186793  </td><td>2.7697078  </td><td>0.06526722 </td></tr>\n",
       "\t<tr><th scope=row>Residuals</th><td>186        </td><td>155.7111352</td><td>0.8371566  </td><td>       NA  </td><td>        NA </td></tr>\n",
       "</tbody>\n",
       "</table>\n"
      ],
      "text/latex": [
       "\\begin{tabular}{r|lllll}\n",
       "  & Df & Sum Sq & Mean Sq & F value & Pr(>F)\\\\\n",
       "\\hline\n",
       "\tGroup &   2         &   0.3426057 & 0.1713029   & 0.2046246   & 0.81513638 \\\\\n",
       "\tRep &   2         &   4.6373585 & 2.3186793   & 2.7697078   & 0.06526722 \\\\\n",
       "\tResiduals & 186         & 155.7111352 & 0.8371566   &        NA   &         NA \\\\\n",
       "\\end{tabular}\n"
      ],
      "text/markdown": [
       "\n",
       "| <!--/--> | Df | Sum Sq | Mean Sq | F value | Pr(>F) |\n",
       "|---|---|---|---|---|---|\n",
       "| Group |   2         |   0.3426057 | 0.1713029   | 0.2046246   | 0.81513638  |\n",
       "| Rep |   2         |   4.6373585 | 2.3186793   | 2.7697078   | 0.06526722  |\n",
       "| Residuals | 186         | 155.7111352 | 0.8371566   |        NA   |         NA  |\n",
       "\n"
      ],
      "text/plain": [
       "          Df  Sum Sq      Mean Sq   F value   Pr(>F)    \n",
       "Group       2   0.3426057 0.1713029 0.2046246 0.81513638\n",
       "Rep         2   4.6373585 2.3186793 2.7697078 0.06526722\n",
       "Residuals 186 155.7111352 0.8371566        NA         NA"
      ]
     },
     "metadata": {},
     "output_type": "display_data"
    }
   ],
   "source": [
    "#view the anove table\n",
    "anova(model.lab)"
   ]
  },
  {
   "cell_type": "code",
   "execution_count": 27,
   "metadata": {},
   "outputs": [
    {
     "name": "stdout",
     "output_type": "stream",
     "text": [
      "[1] \"The Group and Rep have no effect on the ds score after controlling the effect of one-another.\"\n"
     ]
    }
   ],
   "source": [
    "# 1 line summary\n",
    "print(paste(\"The Group and Rep have no effect on the ds score\",\"after controlling the effect of one-another.\"))\n"
   ]
  },
  {
   "cell_type": "code",
   "execution_count": 28,
   "metadata": {},
   "outputs": [
    {
     "name": "stderr",
     "output_type": "stream",
     "text": [
      "Updating HTML index of packages in '.Library'\n",
      "Making 'packages.html' ... done\n"
     ]
    }
   ],
   "source": [
    "# Construct histogram for Anthocyanin Content\n",
    "\n",
    "# Install 'histogram' packages\n",
    "\n",
    "install.packages(\"histogram\")"
   ]
  },
  {
   "cell_type": "code",
   "execution_count": 29,
   "metadata": {},
   "outputs": [],
   "source": [
    "# Load 'histogram package'\n",
    "\n",
    "library(\"histogram\")"
   ]
  },
  {
   "cell_type": "code",
   "execution_count": 31,
   "metadata": {},
   "outputs": [],
   "source": [
    "# Convert 'anthocyanin content' into numeric value\n",
    "\n",
    "lab.data.nomissing$`Anthocyanin content` <- as.numeric(lab.data.nomissing$`Anthocyanin content`)\n"
   ]
  },
  {
   "cell_type": "code",
   "execution_count": 32,
   "metadata": {},
   "outputs": [
    {
     "data": {
      "image/png": "[encoded data removed]",
      "text/plain": [
       "Plot with title “Distribution of Anthocyanin in BC1 population”"
      ]
     },
     "metadata": {},
     "output_type": "display_data"
    }
   ],
   "source": [
    "# Construct histogram\n",
    "\n",
    "hist(lab.data.nomissing$`Anthocyanin content`,breaks=10,main=\"Distribution of Anthocyanin in BC1 population\",ylab=\"Frquency of Genotypes\",xlab=\"Anthocyanin Content(nmole/gfw)\",col=\"Purple\")"
   ]
  },
  {
   "cell_type": "code",
   "execution_count": null,
   "metadata": {},
   "outputs": [],
   "source": []
  }
 ],
 "metadata": {
  "kernelspec": {
   "display_name": "R",
   "language": "R",
   "name": "ir"
  },
  "language_info": {
   "codemirror_mode": "r",
   "file_extension": ".r",
   "mimetype": "text/x-r-source",
   "name": "R",
   "pygments_lexer": "r",
   "version": "3.6.1"
  }
 },
 "nbformat": 4,
 "nbformat_minor": 2
}
